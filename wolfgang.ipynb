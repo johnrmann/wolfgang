{
 "cells": [
  {
   "cell_type": "code",
   "execution_count": null,
   "metadata": {
    "vscode": {
     "languageId": "plaintext"
    }
   },
   "outputs": [],
   "source": [
    "!git clone https://github.com/johnrmann/wolfgang.git\n",
    "%cd wolfgang/python\n",
    "!pip uninstall numpy -y\n",
    "!pip install -r requirements.txt\n",
    "\n",
    "!python read_midi.py ../data/midi/maestro ../data/token/maestro\n",
    "!python clean_tokens.py --directory=../data/token/maestro\n",
    "\n",
    "from google.colab import drive\n",
    "drive.mount('/content/drive')\n",
    "\n",
    "import os\n",
    "output_dir = \"/content/drive/MyDrive/wolfgang_models\"\n",
    "os.makedirs(output_dir, exist_ok=True)\n",
    "\n",
    "EPOCHS = 10\n",
    "DATA_DIR = \"../data/token/maestro\"\n",
    "OUTPUT_PATH = os.path.join(output_dir, \"trained_model.pt\")\n",
    "\n",
    "!python train.py --data_path {DATA_DIR} --epochs {EPOCHS} --model_out \"{OUTPUT_PATH}\"\n",
    "\n",
    "print(\"Training complete. Model saved to:\", OUTPUT_PATH)"
   ]
  }
 ],
 "metadata": {
  "language_info": {
   "name": "python"
  }
 },
 "nbformat": 4,
 "nbformat_minor": 2
}
