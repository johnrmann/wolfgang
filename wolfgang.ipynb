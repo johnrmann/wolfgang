{
 "cells": [
  {
   "cell_type": "code",
   "execution_count": null,
   "metadata": {
    "vscode": {
     "languageId": "plaintext"
    }
   },
   "outputs": [],
   "source": [
    "# Clone the repo\n",
    "!git clone https://github.com/johnrmann/wolfgang.git\n",
    "%cd wolfgang/python\n",
    "\n",
    "# Prevent numpy build issues by installing a binary wheel directly\n",
    "!pip install numpy==2.2.4\n",
    "\n",
    "# Install other requirements (skip numpy so it doesn’t try to rebuild)\n",
    "!pip install --no-deps -r requirements.txt\n",
    "\n",
    "# Manually install any missing packages if needed\n",
    "!pip install mido\n",
    "\n",
    "# Run your MIDI tokenization\n",
    "!python read_midi.py --input=../data/midi/maestro --out=../data/token/union\n",
    "!python read_midi.py --input=../data/midi/pilot --out=../data/token/union\n",
    "\n",
    "# Clean tokens\n",
    "!python clean_tokens.py --directory=../data/token/union\n",
    "\n",
    "# Mount Google Drive\n",
    "from google.colab import drive\n",
    "drive.mount('/content/drive')\n",
    "\n",
    "# Prepare output path\n",
    "import os\n",
    "output_dir = \"/content/drive/MyDrive/wolfgang_models\"\n",
    "os.makedirs(output_dir, exist_ok=True)\n",
    "\n",
    "# Training config\n",
    "EPOCHS = 10\n",
    "DATA_DIR = \"../data/token/union\"\n",
    "OUTPUT_PATH = os.path.join(output_dir, \"trained_model.pt\")\n",
    "\n",
    "# Train the model\n",
    "!python train.py --data_path {DATA_DIR} --epochs {EPOCHS} --model_out \"{OUTPUT_PATH}\"\n",
    "\n",
    "print(\"Training complete. Model saved to:\", OUTPUT_PATH)"
   ]
  }
 ],
 "metadata": {
  "language_info": {
   "name": "python"
  }
 },
 "nbformat": 4,
 "nbformat_minor": 2
}
